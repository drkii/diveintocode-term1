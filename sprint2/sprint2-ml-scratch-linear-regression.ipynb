{
 "cells": [
  {
   "cell_type": "markdown",
   "metadata": {},
   "source": [
    "# AIF_sprint2-linear-reg"
   ]
  },
  {
   "cell_type": "markdown",
   "metadata": {},
   "source": [
    "## 今回の目標\n",
    "\n",
    "- 線形回帰を通して、基本的な機械学習のアルゴリズムを学ぶ\n",
    "- スクラッチを通して、コーディング力を向上させる\n",
    "- スクラッチを通して、アルゴリズムを理解する。\n",
    "- 基本的な機械学習のキーワードを学習する。"
   ]
  },
  {
   "cell_type": "markdown",
   "metadata": {},
   "source": [
    "## 機械学習とは\n",
    "\n",
    "機械学習とはデータをある規則に従って学習を行い、新たなデータが来たときに何らかの予測を行ったり、データ間の関係を導くものです。\n",
    "\n",
    "機械学習には大きく分けて４種類あります。\n",
    "\n",
    "1. 教師あり学習\n",
    "    - 学習時に予測して欲しい出力データも一緒に学習させる。答え（予測するもの）によって回帰と分類に分けられます。\n",
    "        1. 回帰\n",
    "            - 連続値を予測する　\n",
    "                - 例 家のデータから販売価格の予測、過去データから株価予測\n",
    "        1. 分類\n",
    "            - 離散値（カテゴリー）を分類する\n",
    "                - 例　身体データからガンかどうかを分類、硬貨データから（1円から500円）を判別する\n",
    "1. 教師なし学習\n",
    "    - 学習時に答えとなるデータがない学習。データ間の隠れたパターンや構造を見つける。\n",
    "        - 例 購買情報から次の商品開発のためのターゲットを決める。\n",
    "1. 半教師あり学習\n",
    "    - 学習時に答えとなるデータも一緒に学習させるためのデータを用意するのは非常にコストが掛かる。たとえば数千万枚の画像にその画像にタグ（名前）をつけるのは現実的ではないのでクラスタリングを行って、そのクラスターに対してラベルを与えることで　少量の教師ありデータで学習で分類器を作って教師なしのデータに対しても分類ができるようにする。\n",
    "        - 例1　google photoで家族写真を何枚も保存してまず人物をクラスタリングする。そして人物ごとにラベルを与えることで今後写真の人物を判別できる。\n",
    "        - 例2 GAN　少数の教師データとgeneratorが作った偽物を識別するように学習することで精度をあげることができる\n",
    "        \n",
    "1. 強化学習\n",
    "    - エージェントと呼ばれる行動する主体（ロボットやゲームAIの思考部）が行動を行い、その結果をエージェントにフィードバックして次の行動を決定する。\n",
    "        - ロボットの関節制御、ゲームAI（Atari、alphaGo)\n",
    "> [参考1](http://blog.brainpad.co.jp/entry/2017/02/24/121500)\n",
    ">\n",
    "> [参考2](https://deepage.net/machine_learning/2017/08/10/reinforcement-learning.html#atari%E3%81%AE%E6%94%BB%E7%95%A5)"
   ]
  },
  {
   "cell_type": "markdown",
   "metadata": {},
   "source": [
    "今回はhouse-priceコンペのデータを用いて教師あり学習の回帰問題に取り組みます。\n",
    "家データ（１階のリビング面積、築年数）から販売価格を自分で実装した最急降下法で予測します。"
   ]
  },
  {
   "cell_type": "code",
   "execution_count": 1,
   "metadata": {},
   "outputs": [],
   "source": [
    "import numpy as np\n",
    "import scipy as sp\n",
    "import matplotlib.pyplot as plt\n",
    "import pandas as pd\n",
    "import seaborn as sns"
   ]
  },
  {
   "cell_type": "markdown",
   "metadata": {},
   "source": [
    "## データ・セットの用意"
   ]
  },
  {
   "cell_type": "code",
   "execution_count": 2,
   "metadata": {},
   "outputs": [],
   "source": [
    "data = pd.read_csv('../input/train.csv')"
   ]
  },
  {
   "cell_type": "markdown",
   "metadata": {},
   "source": [
    "今回目的変数としてSalePrice、説明変数として、GrLivAreaとYearBuiltを使用する。\n",
    "データを目的変数と説明変数に分ける。"
   ]
  },
  {
   "cell_type": "code",
   "execution_count": 3,
   "metadata": {},
   "outputs": [],
   "source": [
    "x_df = data[['GrLivArea', 'YearBuilt']]\n",
    "y_df = data[['SalePrice']]"
   ]
  },
  {
   "cell_type": "code",
   "execution_count": 4,
   "metadata": {},
   "outputs": [
    {
     "data": {
      "text/html": [
       "<div>\n",
       "<style scoped>\n",
       "    .dataframe tbody tr th:only-of-type {\n",
       "        vertical-align: middle;\n",
       "    }\n",
       "\n",
       "    .dataframe tbody tr th {\n",
       "        vertical-align: top;\n",
       "    }\n",
       "\n",
       "    .dataframe thead th {\n",
       "        text-align: right;\n",
       "    }\n",
       "</style>\n",
       "<table border=\"1\" class=\"dataframe\">\n",
       "  <thead>\n",
       "    <tr style=\"text-align: right;\">\n",
       "      <th></th>\n",
       "      <th>GrLivArea</th>\n",
       "      <th>YearBuilt</th>\n",
       "    </tr>\n",
       "  </thead>\n",
       "  <tbody>\n",
       "    <tr>\n",
       "      <th>0</th>\n",
       "      <td>1710</td>\n",
       "      <td>2003</td>\n",
       "    </tr>\n",
       "    <tr>\n",
       "      <th>1</th>\n",
       "      <td>1262</td>\n",
       "      <td>1976</td>\n",
       "    </tr>\n",
       "    <tr>\n",
       "      <th>2</th>\n",
       "      <td>1786</td>\n",
       "      <td>2001</td>\n",
       "    </tr>\n",
       "    <tr>\n",
       "      <th>3</th>\n",
       "      <td>1717</td>\n",
       "      <td>1915</td>\n",
       "    </tr>\n",
       "    <tr>\n",
       "      <th>4</th>\n",
       "      <td>2198</td>\n",
       "      <td>2000</td>\n",
       "    </tr>\n",
       "  </tbody>\n",
       "</table>\n",
       "</div>"
      ],
      "text/plain": [
       "   GrLivArea  YearBuilt\n",
       "0       1710       2003\n",
       "1       1262       1976\n",
       "2       1786       2001\n",
       "3       1717       1915\n",
       "4       2198       2000"
      ]
     },
     "execution_count": 4,
     "metadata": {},
     "output_type": "execute_result"
    }
   ],
   "source": [
    "x_df.head()"
   ]
  },
  {
   "cell_type": "code",
   "execution_count": 5,
   "metadata": {},
   "outputs": [
    {
     "data": {
      "text/html": [
       "<div>\n",
       "<style scoped>\n",
       "    .dataframe tbody tr th:only-of-type {\n",
       "        vertical-align: middle;\n",
       "    }\n",
       "\n",
       "    .dataframe tbody tr th {\n",
       "        vertical-align: top;\n",
       "    }\n",
       "\n",
       "    .dataframe thead th {\n",
       "        text-align: right;\n",
       "    }\n",
       "</style>\n",
       "<table border=\"1\" class=\"dataframe\">\n",
       "  <thead>\n",
       "    <tr style=\"text-align: right;\">\n",
       "      <th></th>\n",
       "      <th>SalePrice</th>\n",
       "    </tr>\n",
       "  </thead>\n",
       "  <tbody>\n",
       "    <tr>\n",
       "      <th>0</th>\n",
       "      <td>208500</td>\n",
       "    </tr>\n",
       "    <tr>\n",
       "      <th>1</th>\n",
       "      <td>181500</td>\n",
       "    </tr>\n",
       "    <tr>\n",
       "      <th>2</th>\n",
       "      <td>223500</td>\n",
       "    </tr>\n",
       "    <tr>\n",
       "      <th>3</th>\n",
       "      <td>140000</td>\n",
       "    </tr>\n",
       "    <tr>\n",
       "      <th>4</th>\n",
       "      <td>250000</td>\n",
       "    </tr>\n",
       "  </tbody>\n",
       "</table>\n",
       "</div>"
      ],
      "text/plain": [
       "   SalePrice\n",
       "0     208500\n",
       "1     181500\n",
       "2     223500\n",
       "3     140000\n",
       "4     250000"
      ]
     },
     "execution_count": 5,
     "metadata": {},
     "output_type": "execute_result"
    }
   ],
   "source": [
    "y_df.head()"
   ]
  },
  {
   "cell_type": "markdown",
   "metadata": {},
   "source": [
    "データ読み込みが完了しました。\n",
    "次にデータをプロットしてみます。\n",
    "## プロット"
   ]
  },
  {
   "cell_type": "code",
   "execution_count": 6,
   "metadata": {},
   "outputs": [
    {
     "data": {
      "image/png": "[encoded data removed]",
      "text/plain": [
       "<matplotlib.figure.Figure at 0x1a0b7186d8>"
      ]
     },
     "metadata": {},
     "output_type": "display_data"
    }
   ],
   "source": [
    "# grlivareaとsalepriceの関係を散布図にする\n",
    "# 項目を横並びにならべる。 axis=0だと縦に並べる\n",
    "scatter_df = pd.concat([y_df['SalePrice'], x_df['GrLivArea']], axis=1)\n",
    "# yの範囲を0,800000にして散布図を表示\n",
    "scatter_df.plot.scatter(x='GrLivArea', y='SalePrice');"
   ]
  },
  {
   "cell_type": "code",
   "execution_count": 8,
   "metadata": {},
   "outputs": [
    {
     "data": {
      "image/png": "[encoded data removed]",
      "text/plain": [
       "<matplotlib.figure.Figure at 0x1a1550cbe0>"
      ]
     },
     "metadata": {},
     "output_type": "display_data"
    }
   ],
   "source": [
    "# salepriceとYearBuiltの関係を散布図にする\n",
    "# 項目を横並びにならべる。 axis=0だと縦に並べる\n",
    "scatter_df = pd.concat([x_df['YearBuilt'], y_df['SalePrice']], axis=1)\n",
    "# yの範囲を0,800000にして散布図を表示\n",
    "scatter_df.plot.scatter(x='YearBuilt', y='SalePrice');"
   ]
  },
  {
   "cell_type": "markdown",
   "metadata": {},
   "source": [
    "目的変数と説明変数間には正の相関があることが分かります。"
   ]
  },
  {
   "cell_type": "markdown",
   "metadata": {},
   "source": [
    "## フィーチャースケーリング\n",
    "\n",
    "複数の変数を同じスケールに変形すること。変形方法は２つあります。\n",
    "\n",
    "###  正規化\n",
    "\n",
    "値を０から１の範囲に収まるように変形すること。\n",
    "\n",
    "$ x_{normalization} = \\frac{x - min}{max -min}$\n",
    "\n",
    "### 標準化\n",
    "\n",
    "値を平均０、標準偏差１に変形すること。\n",
    "\n",
    "$ x_{standardization} = \\frac{x - mean}{std} $\n",
    "\n",
    "### 正規化と標準化の使い分け\n",
    "- 正規化\n",
    "    - ｘの分布が一様分布と想定する場合（外れ値の影響をうけやすいため）\n",
    "- 標準化\n",
    "    - xの分布がガウス分布と想定する場合　\n",
    "\n",
    "フィーチャースケーリングすることで各特徴量のスケールを同じ範囲に設定することで\n",
    "$\\theta$の更新スピードが同じくらいになるため\n",
    "より少ない学習回数で収束することができる。\n",
    "\n",
    "逆に正規化を行わないとある変数は収束しているが、別の変数がなかなか収束しないことが発生収束スピードが遅くなる。"
   ]
  },
  {
   "cell_type": "code",
   "execution_count": 9,
   "metadata": {},
   "outputs": [],
   "source": [
    "# 正規化\n",
    "x_norm = (x_df - x_df.mean())/ x_df.std()\n",
    "y_norm = (y_df - y_df.mean())/ y_df.std()"
   ]
  },
  {
   "cell_type": "markdown",
   "metadata": {},
   "source": [
    "## 数式の実装\n",
    "\n",
    "線形回帰における、目的関数（コスト関数）を実装する。\n",
    "\n",
    "$h_\\theta(x) = \\theta_0x_0 + \\theta_1x_1 +\\cdots + \\theta_nx_n(x_0=1)$\n",
    "\n",
    "$J(\\theta) = \\frac{1}{2m} \\displaystyle\\sum_{i=1}^m (h_\\theta(x^{(i)}-y^{(i)})^2$"
   ]
  },
  {
   "cell_type": "code",
   "execution_count": 12,
   "metadata": {},
   "outputs": [],
   "source": [
    "def compute_cost(X, y, theta):\n",
    "    # TODO: implemet try: except statement\n",
    "    \n",
    "    # data size\n",
    "    m = y.count()\n",
    "    # add x0's row\n",
    "    X['x0'] = 1 \n",
    "    error = np.dot(X, theta) - np.array(y)\n",
    "    return  (error ** 2).sum() / (2 * m)"
   ]
  },
  {
   "cell_type": "markdown",
   "metadata": {},
   "source": [
    "## $\\theta_0$の役割\n",
    "\n",
    "線形回帰モデルは、以下のように \n",
    "$\\theta_0$\n",
    " つまり、切片が存在する。\n",
    "\n",
    "$h_\\theta(x) = \\theta_0x_0 + \\theta_1x_1 +\\cdots + \\theta_nx_n(x_0=1)$\n",
    "\n",
    "この$\\theta_0$\n",
    " は、線形回帰モデルにおいてどのように役立っているか述べよ。\n",
    "\n",
    "### 回答\n",
    "\n",
    "今回の場合でいうと築年数が０年（新築）のとき切片がないと販売価格が0円になってしまいます。\n",
    "つまり、説明変数の値が0のときの値を正しく表現するために切片が必要となります。\n",
    " \n"
   ]
  },
  {
   "cell_type": "markdown",
   "metadata": {},
   "source": [
    "## 最急降下法(勾配降下法、GradientDescent)\n",
    "\n",
    "最急降下法を実装すること。また、内部からコスト関数を呼び出し、アルゴリズムを完成させること。\n",
    "数式は以下になる。\n",
    "\n",
    "$\\theta_j := \\theta_j - \\alpha \\frac{1}{m} \\displaystyle\\sum_{i=1}^m[(h_\\theta(x^{(i)}-y^{(i)})x_j^{(i)} ]$ "
   ]
  },
  {
   "cell_type": "code",
   "execution_count": 13,
   "metadata": {},
   "outputs": [],
   "source": [
    "def gradient_descent(X, y, theta, iterations, alpha):\n",
    "    \"\"\"\n",
    "    args:\n",
    "      alpha: Step size/Learning rate\n",
    "      iterations: No. of iterations(Number of iterations)\n",
    "    \"\"\"\n",
    "    # data size\n",
    "    m = int(y.count())\n",
    "    \n",
    "    # add x0's row\n",
    "    X['x0'] = 1\n",
    "    \n",
    "    # need initial \n",
    "    past_costs = [compute_cost(X, y, theta)]\n",
    "    past_thetas = [theta]\n",
    "    \n",
    "    for i in range(iterations):\n",
    "        # update theta parameter\n",
    "        error = np.dot(X, theta) - np.array(y)\n",
    "        theta = theta - alpha/m * np.dot(X.T, error)\n",
    "        cost = compute_cost(X, y, theta)\n",
    "        # print(\"{} iteration's cost is {}\".format(i, cost))\n",
    "        # store now cost and theta\n",
    "        past_costs.append(cost)\n",
    "        past_thetas.append(theta)\n",
    "    return (past_costs, past_thetas)"
   ]
  },
  {
   "cell_type": "markdown",
   "metadata": {},
   "source": [
    "関数を実装するときは、更新される前の、thetaとcostを保持する変数past_costsとpast_thetasに順次過去の値をappendする必要がある。"
   ]
  },
  {
   "cell_type": "markdown",
   "metadata": {},
   "source": [
    "## 線形回帰に最急降下法の導出式を記述せよ\n",
    "\n",
    "以下の式から、\n",
    "$\\theta_j := \\theta_j - \\frac{\\partial}{\\partial \\theta_j}J(\\theta) $　 \n",
    "\n",
    "\n",
    "\n",
    "\n",
    "\n",
    "この式が得られるまでを導出すれば良い\n",
    "$\\theta_j := \\theta_j - \\alpha \\frac{1}{m} \\displaystyle\\sum_{i=1}^m[(h_\\theta(x^{(i)}-y^{(i)})x_j^{(i)} ]$ \n",
    "\n",
    "但し、 \n",
    "$i\\neq0$\n",
    " である。\n",
    " \n",
    "上の２式を比べると、\n",
    "$ \\frac{\\partial}{\\partial \\theta_j}J(\\theta) = \\alpha \\frac{1}{m} \\displaystyle\\sum_{i=1}^m[(h_\\theta(x^{(i)}-y^{(i)})x_j^{(i)} ]$ となればよい。\n",
    "\n",
    "$  \\frac{\\partial}{\\partial \\theta_j}J(\\theta) = \\frac{\\partial}{\\partial \\theta_j}\\frac{\\alpha}{2m}\\displaystyle\\sum_{i=1}^m(h_\\theta(x^{(i)}) - y^{(i)})^2$ を合成関数の微分とみなす。\n",
    "\n",
    "\n",
    "\n",
    "これに$g(u)= u^2 ,u= h_\\theta(x^{(i)}) - y^{(i)}$としてそれぞれ$u, \\theta_j$で微分する。\n",
    "\n",
    "$\\frac{\\partial g(u) }{\\partial u} = 2u$\n",
    "\n",
    "$\\frac{\\partial u}{\\partial \\theta_j} = x_j^{(i)}$\n",
    "\n",
    "となる。これを代入して、\n",
    "\n",
    "$\\frac{\\partial}{\\partial \\theta_j}J(\\theta) = \\frac{\\partial}{\\partial \\theta_j}\\frac{\\alpha}{2m}\\displaystyle\\sum_{i=1}^m \\frac{\\partial g(u)}{\\partial u}  \\frac{\\partial u}{\\partial \\theta_j}$\n",
    "\n",
    "$= \\frac{\\partial}{\\partial \\theta_j}\\frac{\\alpha}{2m}\\displaystyle\\sum_{i=1}^m 2u x_j^{(i)}$\n",
    "\n",
    "$= \\frac{\\partial}{\\partial \\theta_j}\\frac{\\alpha}{m}\\displaystyle\\sum_{i=1}^m u x_j^{(i)}$\n",
    "\n",
    "$= \\frac{\\alpha}{m} \\displaystyle\\sum_{i=1}^m[(h_\\theta(x^{(i)}-y^{(i)})x_j^{(i)} ]$\n",
    "\n",
    "となるため\n",
    "\n",
    "\n",
    "\n",
    "\n"
   ]
  },
  {
   "cell_type": "markdown",
   "metadata": {},
   "source": [
    "## 最急降下法について、なぜ局所最適解が得られる場合があるか答えよ\n",
    "\n",
    "但し、線形回帰の場合は局所最適解ではなく、最適解が得られる。この理由も述べよ。\n",
    "\n",
    "下記の場合は0付近の値からスタートするとコストが０に収束してしまうが、実際には5か-5の値が最小値が存在する。\n",
    "このため最急勾配法では初期値によって局所解に陥る可能性がある。\n",
    "\n",
    "線形回帰の場合は今回の場合は二乗誤差関数のため各$\\theta$が２乗関数のため必ず最小値が１つのため最適解が求められる。\n"
   ]
  },
  {
   "cell_type": "code",
   "execution_count": 90,
   "metadata": {},
   "outputs": [
    {
     "data": {
      "text/plain": [
       "Text(0.5,1,'local optimum')"
      ]
     },
     "execution_count": 90,
     "metadata": {},
     "output_type": "execute_result"
    },
    {
     "data": {
      "image/png": "[encoded data removed]",
      "text/plain": [
       "<matplotlib.figure.Figure at 0x1a166b3550>"
      ]
     },
     "metadata": {},
     "output_type": "display_data"
    }
   ],
   "source": [
    "x = np.arange(-7.5, 7.5, 0.1)\n",
    "y = np.sin(x)*x \n",
    "plt.plot(x, y)\n",
    "plt.xlabel('theta', fontsize=15);\n",
    "plt.ylabel('cost', fontsize=15);\n",
    "plt.title('local optimum', fontsize=15)\n"
   ]
  },
  {
   "cell_type": "markdown",
   "metadata": {},
   "source": [
    "## 学習\n",
    "\n",
    "### 学習率\n",
    "\n",
    "学習曲線が収束したとしてもそのサンプルにだけに適応している可能性がある。\n",
    "\n",
    "この状態をOverfittingと呼ぶ。\n",
    "\n",
    "またうまく収束しなかった場合はunderfittingといい学習不足状態となり、サンプルにも母集団にもフィットしない。\n",
    "\n",
    "学習率は非常に小さい値だと収束までに時間がかかるが、逆に大きすぎるとうまく収束しなかったり、発散してしまう。\n",
    "\n",
    "学習率は0.01から0.1など小さい値からはじめ学習曲線を見て徐々に大きい値を採用するのがよい。\n",
    "\n",
    "### 学習曲線について述べよ\n",
    "\n",
    "学習曲線はコストを最適化するような問題に対して学習をステップで実行するような学習方法を使うさいに使われます。\n",
    "\n",
    "学習曲線は学習回数とコストのプロットした結果になります。\n",
    "\n",
    "これでその学習率で収束したかどうか、収束速度がひと目で分かるため学習率のチューニングに使用されます。\n"
   ]
  },
  {
   "cell_type": "markdown",
   "metadata": {},
   "source": [
    "### 学習曲線のプロット\n",
    "\n",
    "past_costsを使用して、学習曲線を表示する関数を作成せよ。"
   ]
  },
  {
   "cell_type": "code",
   "execution_count": 14,
   "metadata": {},
   "outputs": [],
   "source": [
    "# theta は必要？\n",
    "def plot_learning_curve(X, y, iterations, alpha): \n",
    "    # parameter size\n",
    "    theta_size = X.shape[1]\n",
    "    \n",
    "    # set initial theta\n",
    "    theta = pd.DataFrame(np.random.rand(theta_size))\n",
    "    \n",
    "    past_costs = gradient_descent(X, y, theta, iterations, alpha)[0]\n",
    "    plt.plot(np.array(list(range(iterations+1))), np.array(past_costs))\n",
    "    \n",
    "    plt.title('Learning Curve', fontsize=20)\n",
    "    \n",
    "    plt.xlabel(\"iteration\", fontsize=15)\n",
    "    plt.ylabel(\"cost\", fontsize=15)\n",
    "    print(\"last cost is {}\".format(past_costs[-1]))"
   ]
  },
  {
   "cell_type": "markdown",
   "metadata": {},
   "source": [
    "下記のようにコストが下がって収束しているのが分かる。"
   ]
  },
  {
   "cell_type": "code",
   "execution_count": 71,
   "metadata": {},
   "outputs": [
    {
     "name": "stdout",
     "output_type": "stream",
     "text": [
      "last cost is SalePrice    0.173246\n",
      "dtype: float64\n"
     ]
    },
    {
     "data": {
      "image/png": "[encoded data removed]",
      "text/plain": [
       "<matplotlib.figure.Figure at 0x1a158f7208>"
      ]
     },
     "metadata": {},
     "output_type": "display_data"
    }
   ],
   "source": [
    "plot_learning_curve(x_norm, y_norm, 300, 0.01);"
   ]
  },
  {
   "cell_type": "code",
   "execution_count": 72,
   "metadata": {},
   "outputs": [
    {
     "name": "stdout",
     "output_type": "stream",
     "text": [
      "last cost is SalePrice    0.172886\n",
      "dtype: float64\n"
     ]
    },
    {
     "data": {
      "image/png": "[encoded data removed]",
      "text/plain": [
       "<matplotlib.figure.Figure at 0x1a15cbe6d8>"
      ]
     },
     "metadata": {},
     "output_type": "display_data"
    }
   ],
   "source": [
    "plot_learning_curve(x_norm, y_norm, 300, 0.05);"
   ]
  },
  {
   "cell_type": "code",
   "execution_count": 73,
   "metadata": {},
   "outputs": [
    {
     "name": "stdout",
     "output_type": "stream",
     "text": [
      "last cost is SalePrice    0.339965\n",
      "dtype: float64\n"
     ]
    },
    {
     "data": {
      "image/png": "[encoded data removed]",
      "text/plain": [
       "<matplotlib.figure.Figure at 0x1a1588b080>"
      ]
     },
     "metadata": {},
     "output_type": "display_data"
    }
   ],
   "source": [
    "plot_learning_curve(x_norm, y_norm, 300, 0.001);"
   ]
  },
  {
   "cell_type": "markdown",
   "metadata": {},
   "source": [
    "## クラス化"
   ]
  },
  {
   "cell_type": "code",
   "execution_count": 27,
   "metadata": {},
   "outputs": [],
   "source": [
    "class LinearModel():\n",
    "\n",
    "    def __init__(self):\n",
    "        pass\n",
    "\n",
    "    def compute_cost(self, X, y, theta):\n",
    "        # TODO: implemet try: except statement\n",
    "        # data size\n",
    "        m = y.count()\n",
    "        # add x0's row\n",
    "        #X['x0'] = 1 \n",
    "        error = np.dot(X, theta) - np.array(y)\n",
    "        return  (error ** 2).sum() / (2 * m)\n",
    "\n",
    "    def gradient_descent(self, X, y, theta, iterations, alpha):\n",
    "        \"\"\"\n",
    "        args:\n",
    "          alpha: Step size/Learning rate\n",
    "          iterations: No. of iterations(Number of iterations)\n",
    "        \"\"\"\n",
    "        # data size\n",
    "        m = int(y.count())\n",
    "\n",
    "        # add x0's row\n",
    "        X['x0'] = 1\n",
    "\n",
    "        # need initial \n",
    "        past_costs = [compute_cost(X, y, theta)]\n",
    "        past_thetas = [theta]\n",
    "\n",
    "        for i in range(iterations):\n",
    "            # update theta parameter\n",
    "            error = np.dot(X, theta) - np.array(y)\n",
    "            theta = theta - alpha/m * np.dot(X.T, error)\n",
    "            cost = compute_cost(X, y, theta)\n",
    "            # print(\"{} iteration's cost is {}\".format(i, cost))\n",
    "            # store now cost and theta\n",
    "            past_costs.append(cost)\n",
    "            past_thetas.append(theta)\n",
    "        return (past_costs, past_thetas)\n",
    "\n",
    "    def plot_learning_curve(self, X, y, iterations, alpha): \n",
    "        # parameter size\n",
    "        # theta_size = X.shape[1]\n",
    "\n",
    "        # set initial theta\n",
    "        theta = pd.DataFrame(np.random.rand(X.shape[1]))\n",
    "\n",
    "        past_costs = gradient_descent(X, y, theta, iterations, alpha)[0]\n",
    "        plt.plot(np.array(list(range(iterations+1))), np.array(past_costs))\n",
    "\n",
    "        plt.title('Learning Curve', fontsize=20)\n",
    "\n",
    "        plt.xlabel(\"iteration\", fontsize=15)\n",
    "        plt.ylabel(\"cost\", fontsize=15)\n",
    "        print(\"last cost is {}\".format(past_costs[-1]))"
   ]
  },
  {
   "cell_type": "code",
   "execution_count": 28,
   "metadata": {},
   "outputs": [
    {
     "name": "stdout",
     "output_type": "stream",
     "text": [
      "last cost is SalePrice    0.172886\n",
      "dtype: float64\n"
     ]
    },
    {
     "data": {
      "image/png": "[encoded data removed]",
      "text/plain": [
       "<matplotlib.figure.Figure at 0x1a158bd390>"
      ]
     },
     "metadata": {},
     "output_type": "display_data"
    }
   ],
   "source": [
    "gmodel = LinearModel()\n",
    "gmodel.plot_learning_curve(x_norm, y_norm, 200, 0.05)"
   ]
  },
  {
   "cell_type": "code",
   "execution_count": 102,
   "metadata": {},
   "outputs": [
    {
     "data": {
      "text/plain": [
       "SalePrice    1830.833574\n",
       "dtype: float64"
      ]
     },
     "execution_count": 102,
     "metadata": {},
     "output_type": "execute_result"
    }
   ],
   "source": [
    "gmodel.compute_cost(x_norm, y_norm, np.random.rand(3))"
   ]
  },
  {
   "cell_type": "code",
   "execution_count": 46,
   "metadata": {},
   "outputs": [],
   "source": [
    "theta = pd.DataFrame(np.random.rand(x_norm.shape[1]))\n",
    "cost_history, thetas_history = gmodel.gradient_descent(x_norm, y_norm, theta, 10, 0.1)"
   ]
  },
  {
   "cell_type": "code",
   "execution_count": 54,
   "metadata": {},
   "outputs": [
    {
     "name": "stdout",
     "output_type": "stream",
     "text": [
      "0 iteration's cost : 0.4505587598944206 \n",
      "1 iteration's cost : 0.39919039344244767 \n",
      "2 iteration's cost : 0.3574963799468602 \n",
      "3 iteration's cost : 0.32362294296492455 \n",
      "4 iteration's cost : 0.29607741897416656 \n",
      "5 iteration's cost : 0.2736568167017192 \n",
      "6 iteration's cost : 0.2553907143756428 \n",
      "7 iteration's cost : 0.24049557904370775 \n",
      "8 iteration's cost : 0.22833819228782504 \n",
      "9 iteration's cost : 0.21840634194865707 \n",
      "10 iteration's cost : 0.21028531611290946 \n"
     ]
    }
   ],
   "source": [
    "for i, cost in enumerate(cost_history):\n",
    "    print(\"{} iteration's cost : {} \".format(i, float(cost)))"
   ]
  },
  {
   "cell_type": "markdown",
   "metadata": {},
   "source": [
    "クラス化でき、各関数が実行できることが確認できた。"
   ]
  },
  {
   "cell_type": "markdown",
   "metadata": {},
   "source": [
    "## 正規方程式\n",
    "\n",
    "最急勾配法とは異なったアプローチで$\\theta$を求める正規方程式という方法がある。\n",
    "メリット・デメリットは再急降下法と合わせてこのようになっている。\n",
    "\n",
    "|  | 最急降下法 | 正規方程式 |\n",
    "|:-----------|------------:|:------------:|\n",
    "| メリット | 特徴量がスケールしても遅くなりづらい | 学習率のチューニングと繰り返しが不要|\n",
    "| デメリット | 学習率のチューニングが必要 | 逆行列の計算があるため特徴量、データ数が増えると遅くなる |\n"
   ]
  },
  {
   "cell_type": "markdown",
   "metadata": {},
   "source": [
    "## テスト\n",
    "\n",
    "unittestに至らなかったため、シンプルに想定値と動作値を確認する。"
   ]
  },
  {
   "cell_type": "code",
   "execution_count": 115,
   "metadata": {},
   "outputs": [],
   "source": [
    "x = pd.DataFrame([1, 2])\n",
    "y = pd.DataFrame([2, 3])\n",
    "theta = pd.DataFrame([0.5, 0.5])\n",
    "expected = pd.Series(0.8125)\n",
    "actual = compute_cost(x, y, theta)\n",
    "np.testing.assert_almost_equal(float(expected), float(actual))"
   ]
  },
  {
   "cell_type": "code",
   "execution_count": 134,
   "metadata": {},
   "outputs": [],
   "source": [
    "x = pd.DataFrame([1, 2])\n",
    "y = pd.DataFrame([2, 3])\n",
    "theta = pd.DataFrame([0.5, 0.5])\n",
    "expected_cost = np.array(0.0)\n",
    "expected_thetas = np.array([[1.0],[1.0]])\n",
    "\n",
    "actual_costs, actual_thetas = gradient_descent(x, y, theta, 500, 0.01)\n",
    "np.testing.assert_almost_equal(actual_costs[-1], expected_cost, decimal=1)\n",
    "np.testing.assert_almost_equal(actual_thetas[-1], expected_thetas, decimal=1)"
   ]
  },
  {
   "cell_type": "markdown",
   "metadata": {},
   "source": [
    "アラートがないため動作値が想定値に近似した値であることが確認できた。"
   ]
  },
  {
   "cell_type": "code",
   "execution_count": null,
   "metadata": {},
   "outputs": [],
   "source": []
  }
 ],
 "metadata": {
  "kernelspec": {
   "display_name": "Python 3",
   "language": "python",
   "name": "python3"
  },
  "language_info": {
   "codemirror_mode": {
    "name": "ipython",
    "version": 3
   },
   "file_extension": ".py",
   "mimetype": "text/x-python",
   "name": "python",
   "nbconvert_exporter": "python",
   "pygments_lexer": "ipython3",
   "version": "3.6.4"
  }
 },
 "nbformat": 4,
 "nbformat_minor": 2
}
