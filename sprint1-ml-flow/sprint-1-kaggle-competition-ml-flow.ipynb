{
 "cells": [
  {
   "cell_type": "markdown",
   "metadata": {},
   "source": [
    "## TalkingData AdTracking Fraud Detection Challenge "
   ]
  },
  {
   "cell_type": "markdown",
   "metadata": {},
   "source": [
    "\n",
    "このノートブックでは [TalkingDataの不正検知コンペ](https://www.kaggle.com/c/talkingdata-adtracking-fraud-detection) を題材にして\n",
    "アプリ広告がクリックがされたダウンロード。\n",
    "\n",
    "今回のノートブックの目的は\n",
    "- データ分析からモデリングまでの一連の流れを体験する。\n",
    "- コンペの評価基準(AUC)で検証を行う。\n",
    "\n",
    "になります。\n",
    "\n",
    "スコアは二の次なので、\n",
    "ハイスコアを求める方は他のノートブックを参照ください。\n",
    "\n",
    "ノートブックは下記の流れで進めます。\n",
    "\n",
    "1. 問題定義\n",
    "1. データを用意する\n",
    "1. 前処理\n",
    "1. データの分析\n",
    "1. モデル作成\n",
    "1. 可視化して報告する。\n"
   ]
  },
  {
   "cell_type": "markdown",
   "metadata": {},
   "source": [
    "## 1.問題定義"
   ]
  },
  {
   "cell_type": "markdown",
   "metadata": {},
   "source": [
    "不正クリックかどうかを検知するのに、なぜ広告がクリックされた後アプリがダウンロードされるかを調べる必要があるのでしょうか？\n",
    "\n",
    "まずドメイン知識として、「なぜ不正クリックをするのか」を調べました。\n",
    "\n",
    "不正クリックを行って利益を得ようとする人は大きく「競合アプリの開発者」と「広告ネットワーク会社」に分かれます。\n",
    "\n",
    "- 競合アプリの開発者\n",
    "    - 広告出稿主は広告費として一日の上限金額を設定しています。１クリックごとに金額が発生するため、一定回数以上クリックされるとその広告は表示されなくなります。これを利用して競合アプリの広告を表示させなくすることで自分たちのアプリの広告を表示させようとしています。\n",
    "- 広告ネットワーク会社\n",
    "    - 広告ネットワーク会社は広告出稿主からクリックごとに料金をもらえます。そのため不正クリックでクリックを水増しすることで利益を得ようとします。\n",
    "\n",
    "概要でも説明がありましたが、不正業者はなるべく多くのスマートフォンを使って膨大なクリックを発生させたいので、広告をクリックしてもアプリをダウンロードすることは決してありません。\n",
    "\n",
    "つまり広告をクリックしたあとアプリをダウンロードされないクリックは不正クリックとみなします。\n",
    "\n",
    "今回のコンペティションの目的は「**広告がクリックされたあとにダウンロードされるかされないか」を精度良く予測すること**です。"
   ]
  },
  {
   "cell_type": "markdown",
   "metadata": {},
   "source": [
    "## 2.データを用意する"
   ]
  },
  {
   "cell_type": "markdown",
   "metadata": {},
   "source": [
    "今回はダウンロードした時間にあたる項目'attributed_time'はテストデータにないため、\n",
    "これを除いてデータを読み込みます。"
   ]
  },
  {
   "cell_type": "code",
   "execution_count": 1,
   "metadata": {},
   "outputs": [],
   "source": [
    "# 必要なモジュールのインポート\n",
    "import pandas as pd\n",
    "import numpy as np\n",
    "import matplotlib.pyplot as plt\n",
    "import seaborn as sns\n",
    "import time\n",
    "%matplotlib inline\n",
    "import gc\n",
    "\n",
    "import lightgbm as lgb\n",
    "\n",
    "import warnings\n",
    "warnings.filterwarnings('ignore')"
   ]
  },
  {
   "cell_type": "code",
   "execution_count": 2,
   "metadata": {},
   "outputs": [
    {
     "name": "stdout",
     "output_type": "stream",
     "text": [
      "Iris.csv\n",
      "test.csv.zip\n",
      "train.csv\n",
      "train.csv.zip\n",
      "train_sample.csv.zip\n",
      "\n"
     ]
    }
   ],
   "source": [
    "from subprocess import check_output # python上でunixコマンドを使うライブラリ\n",
    "print(check_output(['ls', '../input']).decode('utf-8')) # lsして文字列をutf-8で返す"
   ]
  },
  {
   "cell_type": "markdown",
   "metadata": {},
   "source": [
    "train.csv.zipを見ると1.3GBあるので、メモリにロードできるか確認していきます。\n",
    "まずipアドレスだけを確認します。"
   ]
  },
  {
   "cell_type": "code",
   "execution_count": 3,
   "metadata": {},
   "outputs": [
    {
     "name": "stdout",
     "output_type": "stream",
     "text": [
      "Memory usage = 1.378 GB\n",
      "row count: ip    184903890\n",
      "dtype: int64\n",
      "min= 1 , max= 364778\n"
     ]
    }
   ],
   "source": [
    "data_path = '../input/'\n",
    "# read the column\n",
    "column = 'ip'\n",
    "column_df = pd.read_csv(data_path+ 'train.csv.zip', usecols=[column])\n",
    "# If memory is a big problem for you, please use the following command\n",
    "# column_df = pd.read_csv(file_path, nrows=20000000, usecols=[column])\n",
    "# Display memory usage in GB\n",
    "print(\"Memory usage = %.3f GB\" % (column_df.memory_usage().sum() / 1024 ** 3))\n",
    "print(\"row count: {}\".format(column_df.count()))\n",
    "# Find the min \n",
    "the_min = column_df[column].min()\n",
    "# Find the max\n",
    "the_max = column_df[column].max()\n",
    "# display min and max and determine the minimum data type\n",
    "print(\"min=\", the_min, \", max=\", the_max)"
   ]
  },
  {
   "cell_type": "markdown",
   "metadata": {},
   "source": [
    "このように1.8億件のデータがあり、１項目だけでメモリが1.378GB使います。\n",
    "\n",
    "残念なことにpandasは数値項目はint64を確保してしまいます。\n",
    "そのため上記のように各項目に対して最大最小値を確認して、最小の型を選択する必要があります。\n",
    "\n",
    "今回は時間制約もあり、学習データは10万件のサンプルデータで進めます。\n"
   ]
  },
  {
   "cell_type": "code",
   "execution_count": 4,
   "metadata": {},
   "outputs": [],
   "source": [
    "data_path = '../input/'\n",
    "dtypes = {\n",
    "        'ip'            : 'uint32',\n",
    "        'app'           : 'uint16',\n",
    "        'device'        : 'uint16',\n",
    "        'os'            : 'uint16',\n",
    "        'channel'       : 'uint16',\n",
    "        'is_attributed' : 'uint8',\n",
    "        'click_id'      : 'uint32'\n",
    "        }\n",
    "\n",
    "train_df = pd.read_csv(data_path + 'train_sample.csv.zip', \n",
    "                       # nrows would select the first rows not the last rows so you need to use skiprows parameter\n",
    "                        # nrows=45000000, 45e6\n",
    "                                # We use skiprows here with the range function, a lambda function call would be possible but looks pretty slower\n",
    "                                        #skiprows=range(1, int(184903890 - 10000000)),\n",
    "                                        dtype=dtypes, \n",
    "                                        usecols=['ip','app','device','os', 'channel', 'click_time', 'is_attributed'])\n",
    "\n",
    "test_df = pd.read_csv(data_path + 'test.csv.zip', \n",
    "                      dtype=dtypes, \n",
    "                      usecols=['ip','app','device','os', 'channel', 'click_time', 'click_id'])\n"
   ]
  },
  {
   "cell_type": "markdown",
   "metadata": {},
   "source": [
    "## 3.前処理"
   ]
  },
  {
   "cell_type": "markdown",
   "metadata": {},
   "source": [
    "ダウンロードされた時間はテストデータにないので除外してデータを確認します。\n",
    "欠損値がないか確認。"
   ]
  },
  {
   "cell_type": "code",
   "execution_count": 5,
   "metadata": {},
   "outputs": [
    {
     "data": {
      "text/plain": [
       "0"
      ]
     },
     "execution_count": 5,
     "metadata": {},
     "output_type": "execute_result"
    }
   ],
   "source": [
    "train_df.isnull().sum().sum()"
   ]
  },
  {
   "cell_type": "code",
   "execution_count": 6,
   "metadata": {},
   "outputs": [
    {
     "data": {
      "text/plain": [
       "0"
      ]
     },
     "execution_count": 6,
     "metadata": {},
     "output_type": "execute_result"
    }
   ],
   "source": [
    "test_df.isnull().sum().sum()"
   ]
  },
  {
   "cell_type": "code",
   "execution_count": 7,
   "metadata": {},
   "outputs": [
    {
     "data": {
      "text/plain": [
       "ip               uint32\n",
       "app              uint16\n",
       "device           uint16\n",
       "os               uint16\n",
       "channel          uint16\n",
       "click_time       object\n",
       "is_attributed     uint8\n",
       "dtype: object"
      ]
     },
     "execution_count": 7,
     "metadata": {},
     "output_type": "execute_result"
    }
   ],
   "source": [
    "train_df.dtypes"
   ]
  },
  {
   "cell_type": "code",
   "execution_count": 8,
   "metadata": {},
   "outputs": [
    {
     "data": {
      "text/plain": [
       "click_id      uint32\n",
       "ip            uint32\n",
       "app           uint16\n",
       "device        uint16\n",
       "os            uint16\n",
       "channel       uint16\n",
       "click_time    object\n",
       "dtype: object"
      ]
     },
     "execution_count": 8,
     "metadata": {},
     "output_type": "execute_result"
    }
   ],
   "source": [
    "test_df.dtypes"
   ]
  },
  {
   "cell_type": "code",
   "execution_count": 9,
   "metadata": {},
   "outputs": [
    {
     "data": {
      "text/html": [
       "<div>\n",
       "<style scoped>\n",
       "    .dataframe tbody tr th:only-of-type {\n",
       "        vertical-align: middle;\n",
       "    }\n",
       "\n",
       "    .dataframe tbody tr th {\n",
       "        vertical-align: top;\n",
       "    }\n",
       "\n",
       "    .dataframe thead th {\n",
       "        text-align: right;\n",
       "    }\n",
       "</style>\n",
       "<table border=\"1\" class=\"dataframe\">\n",
       "  <thead>\n",
       "    <tr style=\"text-align: right;\">\n",
       "      <th></th>\n",
       "      <th>ip</th>\n",
       "      <th>app</th>\n",
       "      <th>device</th>\n",
       "      <th>os</th>\n",
       "      <th>channel</th>\n",
       "      <th>click_time</th>\n",
       "      <th>is_attributed</th>\n",
       "    </tr>\n",
       "  </thead>\n",
       "  <tbody>\n",
       "    <tr>\n",
       "      <th>0</th>\n",
       "      <td>87540</td>\n",
       "      <td>12</td>\n",
       "      <td>1</td>\n",
       "      <td>13</td>\n",
       "      <td>497</td>\n",
       "      <td>2017-11-07 09:30:38</td>\n",
       "      <td>0</td>\n",
       "    </tr>\n",
       "    <tr>\n",
       "      <th>1</th>\n",
       "      <td>105560</td>\n",
       "      <td>25</td>\n",
       "      <td>1</td>\n",
       "      <td>17</td>\n",
       "      <td>259</td>\n",
       "      <td>2017-11-07 13:40:27</td>\n",
       "      <td>0</td>\n",
       "    </tr>\n",
       "    <tr>\n",
       "      <th>2</th>\n",
       "      <td>101424</td>\n",
       "      <td>12</td>\n",
       "      <td>1</td>\n",
       "      <td>19</td>\n",
       "      <td>212</td>\n",
       "      <td>2017-11-07 18:05:24</td>\n",
       "      <td>0</td>\n",
       "    </tr>\n",
       "    <tr>\n",
       "      <th>3</th>\n",
       "      <td>94584</td>\n",
       "      <td>13</td>\n",
       "      <td>1</td>\n",
       "      <td>13</td>\n",
       "      <td>477</td>\n",
       "      <td>2017-11-07 04:58:08</td>\n",
       "      <td>0</td>\n",
       "    </tr>\n",
       "    <tr>\n",
       "      <th>4</th>\n",
       "      <td>68413</td>\n",
       "      <td>12</td>\n",
       "      <td>1</td>\n",
       "      <td>1</td>\n",
       "      <td>178</td>\n",
       "      <td>2017-11-09 09:00:09</td>\n",
       "      <td>0</td>\n",
       "    </tr>\n",
       "  </tbody>\n",
       "</table>\n",
       "</div>"
      ],
      "text/plain": [
       "       ip  app  device  os  channel           click_time  is_attributed\n",
       "0   87540   12       1  13      497  2017-11-07 09:30:38              0\n",
       "1  105560   25       1  17      259  2017-11-07 13:40:27              0\n",
       "2  101424   12       1  19      212  2017-11-07 18:05:24              0\n",
       "3   94584   13       1  13      477  2017-11-07 04:58:08              0\n",
       "4   68413   12       1   1      178  2017-11-09 09:00:09              0"
      ]
     },
     "execution_count": 9,
     "metadata": {},
     "output_type": "execute_result"
    }
   ],
   "source": [
    "train_df.head()"
   ]
  },
  {
   "cell_type": "code",
   "execution_count": 10,
   "metadata": {},
   "outputs": [
    {
     "data": {
      "text/html": [
       "<div>\n",
       "<style scoped>\n",
       "    .dataframe tbody tr th:only-of-type {\n",
       "        vertical-align: middle;\n",
       "    }\n",
       "\n",
       "    .dataframe tbody tr th {\n",
       "        vertical-align: top;\n",
       "    }\n",
       "\n",
       "    .dataframe thead th {\n",
       "        text-align: right;\n",
       "    }\n",
       "</style>\n",
       "<table border=\"1\" class=\"dataframe\">\n",
       "  <thead>\n",
       "    <tr style=\"text-align: right;\">\n",
       "      <th></th>\n",
       "      <th>click_id</th>\n",
       "      <th>ip</th>\n",
       "      <th>app</th>\n",
       "      <th>device</th>\n",
       "      <th>os</th>\n",
       "      <th>channel</th>\n",
       "      <th>click_time</th>\n",
       "    </tr>\n",
       "  </thead>\n",
       "  <tbody>\n",
       "    <tr>\n",
       "      <th>0</th>\n",
       "      <td>0</td>\n",
       "      <td>5744</td>\n",
       "      <td>9</td>\n",
       "      <td>1</td>\n",
       "      <td>3</td>\n",
       "      <td>107</td>\n",
       "      <td>2017-11-10 04:00:00</td>\n",
       "    </tr>\n",
       "    <tr>\n",
       "      <th>1</th>\n",
       "      <td>1</td>\n",
       "      <td>119901</td>\n",
       "      <td>9</td>\n",
       "      <td>1</td>\n",
       "      <td>3</td>\n",
       "      <td>466</td>\n",
       "      <td>2017-11-10 04:00:00</td>\n",
       "    </tr>\n",
       "    <tr>\n",
       "      <th>2</th>\n",
       "      <td>2</td>\n",
       "      <td>72287</td>\n",
       "      <td>21</td>\n",
       "      <td>1</td>\n",
       "      <td>19</td>\n",
       "      <td>128</td>\n",
       "      <td>2017-11-10 04:00:00</td>\n",
       "    </tr>\n",
       "    <tr>\n",
       "      <th>3</th>\n",
       "      <td>3</td>\n",
       "      <td>78477</td>\n",
       "      <td>15</td>\n",
       "      <td>1</td>\n",
       "      <td>13</td>\n",
       "      <td>111</td>\n",
       "      <td>2017-11-10 04:00:00</td>\n",
       "    </tr>\n",
       "    <tr>\n",
       "      <th>4</th>\n",
       "      <td>4</td>\n",
       "      <td>123080</td>\n",
       "      <td>12</td>\n",
       "      <td>1</td>\n",
       "      <td>13</td>\n",
       "      <td>328</td>\n",
       "      <td>2017-11-10 04:00:00</td>\n",
       "    </tr>\n",
       "  </tbody>\n",
       "</table>\n",
       "</div>"
      ],
      "text/plain": [
       "   click_id      ip  app  device  os  channel           click_time\n",
       "0         0    5744    9       1   3      107  2017-11-10 04:00:00\n",
       "1         1  119901    9       1   3      466  2017-11-10 04:00:00\n",
       "2         2   72287   21       1  19      128  2017-11-10 04:00:00\n",
       "3         3   78477   15       1  13      111  2017-11-10 04:00:00\n",
       "4         4  123080   12       1  13      328  2017-11-10 04:00:00"
      ]
     },
     "execution_count": 10,
     "metadata": {},
     "output_type": "execute_result"
    }
   ],
   "source": [
    "test_df.head()"
   ]
  },
  {
   "cell_type": "markdown",
   "metadata": {},
   "source": [
    "欠損値はなく、クリック時間以外はint型であることが確認できた。\n",
    "クリック時間の日時を特徴量として扱うため新しい特徴を作成する。"
   ]
  },
  {
   "cell_type": "code",
   "execution_count": 11,
   "metadata": {},
   "outputs": [],
   "source": [
    "train_df['hour'] = pd.to_datetime(train_df.click_time).dt.hour.astype('uint8')\n",
    "train_df['day'] = pd.to_datetime(train_df.click_time).dt.day.astype('uint8')\n",
    "\n",
    "\n",
    "test_df['hour'] = pd.to_datetime(test_df.click_time).dt.hour.astype('uint8')\n",
    "test_df['day'] = pd.to_datetime(test_df.click_time).dt.day.astype('uint8')"
   ]
  },
  {
   "cell_type": "markdown",
   "metadata": {},
   "source": [
    "## 5.モデル作成"
   ]
  },
  {
   "cell_type": "markdown",
   "metadata": {},
   "source": [
    "今回は多くのカーネルで使用されているlightBGMを学習モデルとして採用する。"
   ]
  },
  {
   "cell_type": "code",
   "execution_count": 24,
   "metadata": {},
   "outputs": [
    {
     "name": "stdout",
     "output_type": "stream",
     "text": [
      "[50]\tcv_agg's auc: 0.929195 + 0.0327309\n",
      "{'auc-mean': [0.8764515747230628, 0.9160956421254424, 0.9336579689708384, 0.9337119057095395, 0.9342754303445582, 0.9341610116698559, 0.9343612400397295, 0.9347418798260044, 0.9382314331903198, 0.9382430708645342, 0.9383269881094035, 0.9379801431987792, 0.9379254289041175, 0.9385182076865788, 0.9387711354155327, 0.9388525004681888, 0.9388178230799893, 0.9387995622444579, 0.9389475379883642, 0.9389360307530508, 0.9387285052565691, 0.9386896353312607, 0.9348282322337093, 0.9348173447527547, 0.9388950056358256, 0.938816291966452, 0.9345779178233032, 0.9345903236749334, 0.9359750206897267, 0.9393528974250883], 'auc-stdv': [0.0471040880099739, 0.013429831690432449, 0.007950485663377322, 0.005601471501026295, 0.008311101840026997, 0.008365375499479312, 0.013071899692138709, 0.012802382825602844, 0.01400217512136441, 0.014051378549869648, 0.013976680514954608, 0.014329491014688141, 0.014348127903302569, 0.018958988315752587, 0.019149349981046403, 0.019025175869425023, 0.018842567110064996, 0.01888908010125667, 0.01899563519961311, 0.0188773732352324, 0.018686058697762714, 0.018892511392309363, 0.024565866949580538, 0.024593472007188838, 0.018940102631460908, 0.01922625889236732, 0.024960375291774542, 0.02496452203351037, 0.026246253202534323, 0.020718220866937066]}\n"
     ]
    }
   ],
   "source": [
    "target = 'is_attributed'\n",
    "predictors = ['app', 'device', 'os', 'channel', 'hour', 'day',]\n",
    "categorical = ['app', 'device', 'os', 'channel', 'hour', 'day']\n",
    "\n",
    "sub = pd.DataFrame()\n",
    "sub['click_id'] = test_df['click_id'].astype('int')\n",
    "\n",
    "xgtrain = lgb.Dataset(train_df[predictors].values, label=train_df[target].values,\n",
    "                      feature_name=predictors,\n",
    "                      categorical_feature=categorical,\n",
    "                      free_raw_data=False\n",
    "                      )\n",
    "\n",
    "\n",
    "params = {\n",
    "    'learning_rate': 0.1,\n",
    "    # 'is_unbalance': 'true', # replaced with scale_pos_weight argument\n",
    "    'num_leaves': 15,  # 2^max_depth - 1\n",
    "    'max_depth': 4,  # -1 means no limit\n",
    "    'min_child_samples': 100,  # Minimum number of data need in a child(min_data_in_leaf)\n",
    "    # 'max_bin': 100,  # Number of bucketed bin for feature values\n",
    "    'subsample': 0.7,  # Subsample ratio of the training instance.\n",
    "    'subsample_freq': 1,  # frequence of subsample, <=0 means no enable\n",
    "    'colsample_bytree': 0.9,  # Subsample ratio of columns when constructing each tree.\n",
    "    'min_child_weight': 0,  # Minimum sum of instance weight(hessian) needed in a child(leaf)\n",
    "    'scale_pos_weight':99, # because training data is extremely unbalanced\n",
    "    'metric':'auc'\n",
    "}\n",
    "\n",
    "cv_results = lgb.cv(params=params,\n",
    "                    train_set=xgtrain,\n",
    "                    nfold=3,\n",
    "                    num_boost_round=350,\n",
    "                    early_stopping_rounds=50,\n",
    "                    verbose_eval=50,\n",
    "                   )\n",
    "\n",
    "print(cv_results)\n",
    "\n"
   ]
  },
  {
   "cell_type": "markdown",
   "metadata": {},
   "source": [
    "交差検証で0.928501という数値が出た。\n",
    "本来ならばこの数値と標準偏差を確認し、そのパラメータで要求を満たすか判断する。\n",
    "\n",
    "よければそのまま予測値を出力して終了となる。"
   ]
  },
  {
   "cell_type": "code",
   "execution_count": 31,
   "metadata": {},
   "outputs": [
    {
     "name": "stdout",
     "output_type": "stream",
     "text": [
      "Training until validation scores don't improve for 50 rounds.\n",
      "[50]\ttrain's auc: 0.97112\tvalid's auc: 0.997196\n",
      "[100]\ttrain's auc: 0.975408\tvalid's auc: 0.99794\n",
      "[150]\ttrain's auc: 0.974937\tvalid's auc: 0.998541\n",
      "Early stopping, best iteration is:\n",
      "[108]\ttrain's auc: 0.976166\tvalid's auc: 0.998341\n",
      "Predicting...\n",
      "writing...\n",
      "done...\n"
     ]
    }
   ],
   "source": [
    "len_train = len(train_df)\n",
    "valid_count = 5000\n",
    "val_df = train_df[(len_train - valid_count):len_train]\n",
    "train_df = train_df[:(len_train - valid_count)]\n",
    "\n",
    "xgvalid = lgb.Dataset(val_df[predictors].values, label=val_df[target].values,\n",
    "                      feature_name=predictors,\n",
    "                      free_raw_data=False\n",
    "                      )\n",
    "\n",
    "evals_results = {}\n",
    "\n",
    "\n",
    "bst1 = lgb.train(params,\n",
    "                     xgtrain,\n",
    "                     valid_sets=[xgtrain, xgvalid],\n",
    "                     valid_names=['train', 'valid'],\n",
    "                     evals_result=evals_results,\n",
    "                     num_boost_round=350,\n",
    "                     early_stopping_rounds=50,\n",
    "                     verbose_eval=50\n",
    "                     )\n",
    "print(\"Predicting...\")\n",
    "sub['is_attributed'] = bst1.predict(test_df[predictors])\n",
    "\n",
    "print(\"writing...\")\n",
    "sub.to_csv('sub_lgb_cv_001.csv', index=False)\n",
    "print(\"done...\")"
   ]
  },
  {
   "cell_type": "markdown",
   "metadata": {},
   "source": [
    "## まとめ"
   ]
  },
  {
   "cell_type": "markdown",
   "metadata": {},
   "source": [
    "今回はlightGBMを使って、交差検証を含め一連のフローを完成させることができた。\n"
   ]
  },
  {
   "cell_type": "markdown",
   "metadata": {},
   "source": [
    "## 改善点\n",
    "\n",
    "### パラメータチューニング\n",
    "- カーネルをそのまま使っているのでグリッドサーチ、ランダムサーチなどの調整するメソッドを使えるようにする。\n",
    "\n",
    "### 特徴量エンジニアリング\n",
    "- 今回はできなかったが分析データからIPアドレスごとにカウントした値を追加してモデル学習を行いたい。"
   ]
  }
 ],
 "metadata": {
  "kernelspec": {
   "display_name": "Python 3",
   "language": "python",
   "name": "python3"
  },
  "language_info": {
   "codemirror_mode": {
    "name": "ipython",
    "version": 3
   },
   "file_extension": ".py",
   "mimetype": "text/x-python",
   "name": "python",
   "nbconvert_exporter": "python",
   "pygments_lexer": "ipython3",
   "version": "3.6.4"
  }
 },
 "nbformat": 4,
 "nbformat_minor": 2
}
